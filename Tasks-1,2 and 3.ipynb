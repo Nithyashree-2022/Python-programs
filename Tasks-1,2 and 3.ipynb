{
 "cells": [
  {
   "cell_type": "code",
   "execution_count": 1,
   "metadata": {},
   "outputs": [
    {
     "name": "stdout",
     "output_type": "stream",
     "text": [
      "2.Accessing elements of a tuple:\n",
      "The Rainbow\n",
      "Violet is the first color of the rainbow\n",
      "To view the rainbow,the angle between the human eye and the rain droplet must be from   40  to  42  degrees\n",
      "Other colours of the rainbow include:   ('Red', 'Blue', 'Orange')\n"
     ]
    }
   ],
   "source": [
    "#2.Tuples\n",
    "\n",
    "rainbow=(\"Violet\",40,41,42,41.5,\"Red\",\"Blue\",\"Orange\")\n",
    "print(\"2.Accessing elements of a tuple:\")\n",
    "print(\"The Rainbow\")\n",
    "print(rainbow[0]+\" is the first color of the rainbow\")\n",
    "print(\"To view the rainbow,the angle between the human eye and the rain droplet must be from\",\" \",rainbow[1],\" to \",rainbow[3],\" degrees\")\n",
    "print(\"Other colours of the rainbow include:\",\" \",rainbow[-3:])\n",
    "\n",
    "#Tuples cannot be modified-delete an ele,add an ele etc., not possible\n"
   ]
  },
  {
   "cell_type": "code",
   "execution_count": 6,
   "metadata": {},
   "outputs": [
    {
     "name": "stdout",
     "output_type": "stream",
     "text": [
      "Enter your name:Nithya\n",
      "Enter your wt:60\n",
      "Enter your age:19\n",
      "How many entries you want to add?0\n",
      "Updated details:\n",
      "Namelist= ['Ramya', 'Gagan', 'Gamya', 'Chandrashekhar', 'Nithya']\n",
      "Wts= [50, 65, 45, 70, 60]\n",
      "Ages= [28, 30, 5, 50, 19]\n"
     ]
    }
   ],
   "source": [
    "#1.Assigning elements to different lists\n",
    "\n",
    "names=[\"Ramya\",\"Gagan\",\"Gamya\",\"Chandrashekhar\"]\n",
    "weights=[50,65,45,70]\n",
    "ages=[28,30,5,50]\n",
    "\n",
    "#for 1 person:\n",
    "\n",
    "name=input(\"Enter your name:\")\n",
    "names.append(name)\n",
    "weight=int(input(\"Enter your wt:\"))\n",
    "weights.append(weight)\n",
    "age=int(input(\"Enter your age:\"))\n",
    "ages.append(age)\n",
    "\n",
    "#for more entries\n",
    "namelist=[]\n",
    "weightlist=[]\n",
    "agelist=[]\n",
    "n=int(input(\"How many entries you want to add?\"))\n",
    "for i in range(n):\n",
    "    name=input(\"Enter your name:\")\n",
    "    namelist.append(name)\n",
    "    weight=int(input(\"Enter your wt:\"))\n",
    "    weightlist.append(weight)\n",
    "    age=int(input(\"Enter your age:\"))\n",
    "    agelist.append(age)\n",
    "    \n",
    "names.extend(namelist)\n",
    "weights.extend(weightlist)\n",
    "ages.extend(agelist)\n",
    "    \n",
    "print(\"Updated details:\")\n",
    "print(\"Namelist=\",names)\n",
    "print(\"Wts=\",weights)\n",
    "print(\"Ages=\",ages)"
   ]
  },
  {
   "cell_type": "code",
   "execution_count": 15,
   "metadata": {},
   "outputs": [
    {
     "name": "stdout",
     "output_type": "stream",
     "text": [
      "Enter the key to be popped:Naina\n",
      "Enter the value to be deleted:74\n",
      "{'Sameer': 60, 'Arjun': 70, 'Rakesh': 63, 'Kamalesh': 30}\n"
     ]
    }
   ],
   "source": [
    "#3.Dictionaries\n",
    "\n",
    "results={\"Naina\":77,\"Sameer\":60,\"Swathi\":74,\"Arjun\":70,\"Rakesh\":63,\"Kamalesh\":30}\n",
    "\n",
    "#delete by key\n",
    "key=input(\"Enter the key to be popped:\")\n",
    "results.pop(key)\n",
    "\n",
    "#delete by value\n",
    "value=int(input(\"Enter the value to be deleted:\"))\n",
    "for i in results.keys():\n",
    "    if(results[i]==value):\n",
    "        results.pop(i)\n",
    "        break\n",
    "\n",
    "print(results)\n"
   ]
  },
  {
   "cell_type": "code",
   "execution_count": null,
   "metadata": {},
   "outputs": [],
   "source": []
  }
 ],
 "metadata": {
  "kernelspec": {
   "display_name": "Python 3",
   "language": "python",
   "name": "python3"
  },
  "language_info": {
   "codemirror_mode": {
    "name": "ipython",
    "version": 3
   },
   "file_extension": ".py",
   "mimetype": "text/x-python",
   "name": "python",
   "nbconvert_exporter": "python",
   "pygments_lexer": "ipython3",
   "version": "3.7.6"
  }
 },
 "nbformat": 4,
 "nbformat_minor": 4
}
